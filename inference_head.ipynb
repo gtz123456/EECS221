{
 "cells": [
  {
   "cell_type": "code",
   "execution_count": 29,
   "id": "9cce50ae",
   "metadata": {},
   "outputs": [],
   "source": [
    "import boto3\n",
    "import json\n",
    "\n",
    "# 创建SageMaker运行时客户端\n",
    "runtime = boto3.client('runtime.sagemaker', region_name='us-west-1')\n",
    "\n",
    "# SageMaker终端节点名称\n",
    "endpoint_name = 'linear-learner-2024-05-31-07-40-56-087'\n",
    "\n",
    "def predict(data):\n",
    "    response = runtime.invoke_endpoint(\n",
    "        EndpointName=endpoint_name,\n",
    "        ContentType='text/csv',\n",
    "        Body=data\n",
    "    )\n",
    "    result = json.loads(response['Body'].read().decode())\n",
    "    return result"
   ]
  },
  {
   "cell_type": "code",
   "execution_count": 30,
   "id": "38c77132",
   "metadata": {},
   "outputs": [
    {
     "name": "stdout",
     "output_type": "stream",
     "text": [
      "预测结果: {'predictions': [{'score': [1.906529359985143e-05, 0.001210534363053739, 0.003029012819752097, 0.01201800350099802, 0.015093373134732246, 0.016052406281232834, 0.950397253036499, 0.002180335810407996], 'predicted_label': 6}]}\n"
     ]
    }
   ],
   "source": [
    "test_data = \"-0.900685,0.003622,0.035336,-0.217505,-0.011788,-0.975988,0.089997,0.995425,-0.032079\"\n",
    "prediction = predict(test_data)\n",
    "print(f'预测结果: {prediction}')"
   ]
  }
 ],
 "metadata": {
  "kernelspec": {
   "display_name": "conda_python3",
   "language": "python",
   "name": "conda_python3"
  },
  "language_info": {
   "codemirror_mode": {
    "name": "ipython",
    "version": 3
   },
   "file_extension": ".py",
   "mimetype": "text/x-python",
   "name": "python",
   "nbconvert_exporter": "python",
   "pygments_lexer": "ipython3",
   "version": "3.10.14"
  }
 },
 "nbformat": 4,
 "nbformat_minor": 5
}
